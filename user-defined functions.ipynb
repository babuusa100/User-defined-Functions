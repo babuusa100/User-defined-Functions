{
 "cells": [
  {
   "cell_type": "markdown",
   "metadata": {},
   "source": [
    "\n",
    "# user defined functions\n"
   ]
  },
  {
   "cell_type": "code",
   "execution_count": 1,
   "metadata": {},
   "outputs": [],
   "source": [
    "import pandas as pd\n",
    "import numpy as np\n",
    "import scipy as py\n",
    "from sklearn import datasets"
   ]
  },
  {
   "cell_type": "code",
   "execution_count": 2,
   "metadata": {},
   "outputs": [],
   "source": [
    "#Finding mean for any variable or object\n",
    "def mean_babu(x):\n",
    "    n = len(x)\n",
    "    sum=0\n",
    "    for i in range(n):\n",
    "        sum+=x[i]\n",
    "    mean = sum/n\n"
   ]
  },
  {
   "cell_type": "code",
   "execution_count": 3,
   "metadata": {},
   "outputs": [],
   "source": [
    "#Finding Standard deviation for any variable or object \n",
    "def std_babu(x):\n",
    "    num=0\n",
    "    n=len(x)\n",
    "    for i in range(n):\n",
    "        num+=(x[i]-x.mean())**2\n",
    "    den= n-1\n",
    "    std = (num/den)**(1/2)\n",
    "    print(std)"
   ]
  },
  {
   "cell_type": "code",
   "execution_count": 4,
   "metadata": {},
   "outputs": [],
   "source": [
    "#Findnig Variance for any variable or object \n",
    "def var_babu(x):\n",
    "    num=0\n",
    "    n = len(x)\n",
    "    for i in range(n):\n",
    "        num+=(x[i]-x.mean())**2\n",
    "    den= n-1\n",
    "    var= num/den\n",
    "    print(var)"
   ]
  },
  {
   "cell_type": "code",
   "execution_count": 5,
   "metadata": {},
   "outputs": [],
   "source": [
    "#Finding the standard error \n",
    "def std_error_babu(x):\n",
    "    num= 0\n",
    "    n= len(x)\n",
    "    for i in range(n):\n",
    "        num+=(x[i]-x.mean())**2\n",
    "    den= n-1\n",
    "    std = (num/den)**(1/2)\n",
    "    final = (std/(n)**(1/2))\n",
    "    print(final)\n",
    "        "
   ]
  },
  {
   "cell_type": "code",
   "execution_count": 6,
   "metadata": {},
   "outputs": [],
   "source": [
    "#linear regression coefecients\n",
    "def coefficiets(x,y):\n",
    "    mean_x = np.mean(x)\n",
    "    mean_y = np.mean(y)\n",
    "    n= len(dfnew)\n",
    "    num = 0\n",
    "    den = 0\n",
    "    for i in range(n):\n",
    "        num += (x[i]- mean_x)*(y[i]-mean_y)\n",
    "        den+= (x[i]-mean_x)**2\n",
    "    beta1 = num/den\n",
    "    alpha = mean_y - (beta1*mean_x)\n",
    "    return ('Regression coefficients:', 'b:', beta1, 'a', alpha)\n"
   ]
  },
  {
   "cell_type": "code",
   "execution_count": 7,
   "metadata": {},
   "outputs": [],
   "source": [
    "def rmse(x,y):\n",
    "    n =len(df)\n",
    "    mean_x=np.mean(x)\n",
    "    mean_y=np.mean(y)\n",
    "    num=0\n",
    "    den=0\n",
    "    for i in range(n):\n",
    "        num += (x[i]- mean_x)*(y[i]-mean_y)\n",
    "        den+= (x[i]-mean_x)**2\n",
    "    beta1 = num/den\n",
    "    alpha = mean_y - (beta1*mean_x)\n",
    "    ycap = alpha+ (beta1*x)\n",
    "    error = (y-ycap)\n",
    "    rmse_den = (len(error)-1)\n",
    "    rmse_nem = np.sum(error**2)\n",
    "    rmse_value = np.sqrt(rmse_nem/rmse_den)\n",
    "    return(rmse_value)"
   ]
  },
  {
   "cell_type": "code",
   "execution_count": 8,
   "metadata": {},
   "outputs": [],
   "source": [
    "def rsqr(x,y):\n",
    "    mean_x = np.mean(x)\n",
    "    mean_y = np.mean(y)\n",
    "    n= len(dfnew)\n",
    "    num = 0\n",
    "    den = 0\n",
    "    tss = 0\n",
    "    for i in range(n):\n",
    "        num += (x[i]- mean_x)*(y[i]-mean_y)\n",
    "        den += (x[i]-mean_x)**2\n",
    "    beta1 = num/den\n",
    "    alpha = mean_y - (beta1*mean_x)\n",
    "    ycap = alpha + (beta1*x)\n",
    "    error = (y-ycap)\n",
    "    ess = np.sum(error**2)\n",
    "    for i in range(n):\n",
    "        tss+=(y[i]-mean_y)**2\n",
    "        rs = 1-(ess/tss)\n",
    "    return(rs*100)"
   ]
  },
  {
   "cell_type": "code",
   "execution_count": 9,
   "metadata": {},
   "outputs": [],
   "source": [
    "def corr_babu(x,y):\n",
    "    num= 0\n",
    "    den=0\n",
    "    n = len(df)\n",
    "    for i in range(n):\n",
    "        num+= (x[i]-x.mean())*(y[i]-y.mean())\n",
    "        den+= ((x[i]-x.mean())**2) * (y[i]-y.mean())**2\n",
    "    den1= (den)**(1/2)\n",
    "    corr = (num/den1)\n",
    "    print('Correlation is', corr)"
   ]
  },
  {
   "cell_type": "code",
   "execution_count": 10,
   "metadata": {},
   "outputs": [],
   "source": [
    "def vif_babu(x,y):\n",
    "    mean_x = np.mean(x)\n",
    "    mean_y = np.mean(y)\n",
    "    n= len(dfnew)\n",
    "    num = 0\n",
    "    den = 0\n",
    "    tss = 0\n",
    "    for i in range(n):\n",
    "        num += (x[i]- mean_x)*(y[i]-mean_y)\n",
    "        den += (x[i]-mean_x)**2\n",
    "    beta1 = num/den\n",
    "    alpha = mean_y - (beta1*mean_x)\n",
    "    ycap = alpha + (beta1*x)\n",
    "    error = (y-ycap)\n",
    "    ess = np.sum(error**2)\n",
    "    for i in range(n):\n",
    "        tss+=(y[i]-mean_y)**2\n",
    "    rs = 1-(ess/tss)\n",
    "    rs1= (rs)**2\n",
    "    vif = (1/(1-rs1))\n",
    "    print(vif)"
   ]
  },
  {
   "cell_type": "code",
   "execution_count": 11,
   "metadata": {},
   "outputs": [],
   "source": [
    "def outlier(y):\n",
    "    q1 = y.quantile(0.25)\n",
    "    q3 = y.quantile(0.75)\n",
    "    iqr = q3 - q1\n",
    "    iner = q1 - (1.5*iqr)\n",
    "    outer = q3 + (1.5*iqr)\n",
    "    for i in y:\n",
    "        if i < iner or i > outer:\n",
    "            print(i)"
   ]
  },
  {
   "cell_type": "code",
   "execution_count": 12,
   "metadata": {},
   "outputs": [],
   "source": [
    "def error_variance(x,y):\n",
    "    n =len(dfsk)\n",
    "    mean_x=np.mean(x)\n",
    "    mean_y=np.mean(y)\n",
    "    num=0\n",
    "    den=0\n",
    "    for i in range(n):\n",
    "        num += (x[i]- mean_x)*(y[i]-mean_y)\n",
    "        den+= (x[i]-mean_x)**2\n",
    "    beta1 = num/den\n",
    "    alpha = mean_y - (beta1*mean_x)\n",
    "    ycap = alpha+ (beta1*x)\n",
    "    for i in range(n):\n",
    "        error += (y-ycap)**2\n",
    "    final = error/n\n",
    "    print(final)\n",
    "        "
   ]
  },
  {
   "cell_type": "code",
   "execution_count": 13,
   "metadata": {},
   "outputs": [],
   "source": [
    "#user-defined function for skewness\n",
    "def skew_babu(x):\n",
    "    num=0\n",
    "    n=len(x)\n",
    "    den = 0\n",
    "    for i in range(n):\n",
    "        num+=(x[i]-x.mean())**3\n",
    "    num1 = (num)**2\n",
    "    for i in range(n):\n",
    "        den+=(x[i]-x.mean())**2\n",
    "    den1 = (den)**3\n",
    "    skew = num1/den1\n",
    "    return skew"
   ]
  },
  {
   "cell_type": "code",
   "execution_count": 14,
   "metadata": {},
   "outputs": [],
   "source": [
    "#user-defined function for knowing the number of cat and num varriables in a data-set\n",
    "def cat_num(df):\n",
    "    total = 0\n",
    "    cat = 0\n",
    "    num = 0\n",
    "    for col in df.columns.values:\n",
    "        if df[col].dtype == \"object\":\n",
    "            cat = cat+1\n",
    "        else:\n",
    "            num=num+1\n",
    "    print(\"numerical:\",num)\n",
    "    print(\"categorical:\",cat)\n",
    "    "
   ]
  },
  {
   "cell_type": "code",
   "execution_count": 15,
   "metadata": {},
   "outputs": [],
   "source": [
    "#user-defined function two remove any symbol in the columns. here for dollar symbol is removed.\n",
    "def remove_dollor(x):\n",
    "    a =  x[2:] #removes first two chr\n",
    "    result = \"\"\n",
    "    for i in a:\n",
    "        if i.isdigit() is True:\n",
    "            result = result + i\n",
    "    return result "
   ]
  },
  {
   "cell_type": "code",
   "execution_count": 16,
   "metadata": {},
   "outputs": [],
   "source": [
    "#user-defined for rmse calculation of test data\n",
    "def rmse_test(ytest, pred,xtest):\n",
    "    err = ytest - pred\n",
    "    mse = sum(err**2)/(xtest.shape[0]-xtest.shape[1]-1)\n",
    "    rmse = np.sqrt(mse)\n",
    "    print(\"RMSE OF TEST DATA IS : \", rmse)"
   ]
  },
  {
   "cell_type": "code",
   "execution_count": 17,
   "metadata": {},
   "outputs": [],
   "source": [
    "# user-defined function for calculating the affinity factor\n",
    "def aff_factor(df,tot):\n",
    "    for i in range(df.shape[0]):\n",
    "        df.iloc[i] = df.iloc[i]/tot\n",
    "    return df.drop(\"col1\",axis =0)"
   ]
  },
  {
   "cell_type": "code",
   "execution_count": 18,
   "metadata": {},
   "outputs": [],
   "source": [
    "#user-defined function for calculating the different metrics for the models\n",
    "def metrics_mod(y_true, y_pred, retu=False):\n",
    "    pre = precision_score(y_true, y_pred)\n",
    "    rec = recall_score(y_true, y_pred)\n",
    "    f1 = f1_score(y_true, y_pred)\n",
    "    loss = log_loss(y_true, y_pred)\n",
    "    acc = accuracy_score(y_true, y_pred)\n",
    "    \n",
    "    if retu:\n",
    "        return pre, rec, f1, loss, acc\n",
    "    else:\n",
    "        print('  pre: %.3f\\n  rec: %.3f\\n  f1: %.3f\\n  loss: %.3f\\n  acc: %.3f' % (pre, rec, f1, loss, acc))"
   ]
  },
  {
   "cell_type": "code",
   "execution_count": 19,
   "metadata": {},
   "outputs": [],
   "source": [
    "# user-defined function for finding the different metrics for the model\n",
    "def mod_details(model,alg):\n",
    "    y_pred=model.predict(X_val)\n",
    "    rmse=np.sqrt(mse(y_val,y_pred))\n",
    "    acc=round(model.score(X_val,y_val)*100,2)\n",
    "    cvs=cross_val_score(model,X_val,y_val,cv=5)\n",
    "    mean=round(cvs.mean()*100,2)\n",
    "    std=round(cvs.std()*2,2)\n",
    "    print(\"Model Report\")\n",
    "    print('Accuracy of {}: {}%'.format(alg,acc),)\n",
    "    print('RMSE Value: ',round(rmse,2))\n",
    "    print('Cross Validation Score: Mean - {} | Std - {}'.format(mean,std))"
   ]
  },
  {
   "cell_type": "code",
   "execution_count": 20,
   "metadata": {},
   "outputs": [],
   "source": [
    "#USER-DEFINED FUNCTIONS FOR F1SCORE\n",
    "from sklearn.metrics import f1_score\n",
    "def print_f1score(x,y):\n",
    "    f1={}\n",
    "    for n in range(2,30):\n",
    "        pca = PCA(n)\n",
    "        pca.fit(x)\n",
    "        features = pca.transform(x);\n",
    "        #print(features.shape)\n",
    "\n",
    "        pca_data = pd.DataFrame(features)\n",
    "        #print(pca_data.shape)\n",
    "\n",
    "        x_train, x_test, y_train, y_test = train_test_split(x,y, test_size = 0.25, random_state = 100)\n",
    "\n",
    "   \n",
    "        \n",
    "        log_pca = LogisticRegression().fit(x_train,y_train)\n",
    "\n",
    "        y_pred = log_pca.predict(x_test)\n",
    "\n",
    "        score = (f1_score(y_test,y_pred))\n",
    "        f1[score] = n\n",
    "        print(f1)"
   ]
  },
  {
   "cell_type": "code",
   "execution_count": 21,
   "metadata": {},
   "outputs": [],
   "source": [
    "#user- defined function for normalization of text \n",
    "def normalization(tweet_list):\n",
    "        lem = WordNetLemmatizer()\n",
    "        normalized_tweet = []\n",
    "        for word in tweet_list:\n",
    "            normalized_text = lem.lemmatize(word,'v')\n",
    "            normalized_tweet.appen"
   ]
  },
  {
   "cell_type": "code",
   "execution_count": 22,
   "metadata": {},
   "outputs": [],
   "source": [
    "#user-defined function for filling the missing values\n",
    "def painful_fillna(df, fillvalue):\n",
    "    df = df.copy()\n",
    "    for col in df.columns:\n",
    "        for i, value in enumerate(df[col].values):\n",
    "            if np.isnan(value):\n",
    "                df[col][i] = fillvalue\n",
    "    return(df)"
   ]
  },
  {
   "cell_type": "code",
   "execution_count": 23,
   "metadata": {},
   "outputs": [],
   "source": [
    "#user-function to find missing Value percentage\n",
    "def missing_data(df_train):\n",
    "    total = df_train.isnull().sum().sort_values(ascending=False)\n",
    "    percent = (df_train.isnull().sum()/df_train.isnull().count()).sort_values(ascending=False)\n",
    "    missing_data = pd.concat([total, percent], axis=1, keys=['Total', 'Percent'])\n",
    "    return(missing_data.head(20))"
   ]
  },
  {
   "cell_type": "code",
   "execution_count": 24,
   "metadata": {},
   "outputs": [],
   "source": [
    "#user-deifined function for calculating the VIF\n",
    "def babu_vif(x):\n",
    "\n",
    "    vif = pd.DataFrame()\n",
    "    vif[\"variables\"] = x.columns\n",
    "    vif[\"VIF\"] = [variance_inflation_factor(x.values, i) for i in range(x.shape[1])]\n",
    "\n",
    "    return(vif)"
   ]
  },
  {
   "cell_type": "code",
   "execution_count": null,
   "metadata": {},
   "outputs": [],
   "source": []
  },
  {
   "cell_type": "code",
   "execution_count": null,
   "metadata": {},
   "outputs": [],
   "source": []
  }
 ],
 "metadata": {
  "kernelspec": {
   "display_name": "Python 3",
   "language": "python",
   "name": "python3"
  },
  "language_info": {
   "codemirror_mode": {
    "name": "ipython",
    "version": 3
   },
   "file_extension": ".py",
   "mimetype": "text/x-python",
   "name": "python",
   "nbconvert_exporter": "python",
   "pygments_lexer": "ipython3",
   "version": "3.7.6"
  }
 },
 "nbformat": 4,
 "nbformat_minor": 4
}
